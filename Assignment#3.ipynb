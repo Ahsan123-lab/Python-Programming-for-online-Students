{
 "cells": [
  {
   "cell_type": "code",
   "execution_count": null,
   "metadata": {},
   "outputs": [
    {
     "name": "stdout",
     "output_type": "stream",
     "text": [
      "Enter numeric value 3\n",
      "Enter operator +\n",
      "Enter numeric value 5\n",
      "3+5= 8\n",
      "Enter numeric value 20\n",
      "Enter operator -\n",
      "Enter numeric value 12\n",
      "20-12= 8\n",
      "Enter numeric value 4\n",
      "Enter operator *\n",
      "Enter numeric value 5\n",
      "4*5= 20\n",
      "Enter numeric value 60\n",
      "Enter operator /\n",
      "Enter numeric value 5\n",
      "60/5= 12.0\n",
      "Enter numeric value 5\n",
      "Enter operator p\n",
      "Enter numeric value 3\n",
      "5^3= 125\n"
     ]
    }
   ],
   "source": [
    "i=2\n",
    "while i not in range(1):\n",
    " num1=int(input(\"Enter numeric value \"))\n",
    " op=input(\"Enter operator \")\n",
    " num2=int(input(\"Enter numeric value \"))\n",
    "\n",
    " if op==\"+\":\n",
    "  print (\"%d+%d=\"%(num1, num2),num1+num2)\n",
    " elif op==\"-\":\n",
    "  print (\"%d-%d=\"%(num1, num2),num1-num2)\n",
    " elif op==\"*\":\n",
    "  print (\"%d*%d=\"%(num1, num2),num1*num2)\n",
    " elif op==\"/\":\n",
    "  print (\"%d/%d=\"%(num1, num2),num1/num2)\n",
    " elif op==\"p\":\n",
    "  print (\"%d^%d=\"%(num1, num2),num1**num2)\n",
    " else:\n",
    "  print(\"Invalid Operator!\")"
   ]
  },
  {
   "cell_type": "code",
   "execution_count": 2,
   "metadata": {},
   "outputs": [
    {
     "name": "stdout",
     "output_type": "stream",
     "text": [
      "Numeric Values are: 1\n",
      "Numeric Values are: 30\n",
      "Numeric Values are: 44\n",
      "Numeric Values are: 5.6\n"
     ]
    }
   ],
   "source": [
    "a=[1,30,44,5.6,\"Ali\",\"Fahad\"]\n",
    "for i in a:\n",
    "    if type(i)==int or type(i)==float:\n",
    "     print(\"Numeric Values are:\",i)\n",
    "        "
   ]
  },
  {
   "cell_type": "code",
   "execution_count": 5,
   "metadata": {},
   "outputs": [
    {
     "name": "stdout",
     "output_type": "stream",
     "text": [
      "Enter KeyName\n",
      "Enter valuesAftab\n",
      "{'Name': 'Aftab'}\n"
     ]
    }
   ],
   "source": [
    "dic={}\n",
    "key=input(\"Enter Key\")\n",
    "value=input(\"Enter values\")\n",
    "dic.update({key:value})\n",
    "print(dic)"
   ]
  },
  {
   "cell_type": "code",
   "execution_count": 12,
   "metadata": {},
   "outputs": [
    {
     "name": "stdout",
     "output_type": "stream",
     "text": [
      "Sum of All numeric numbers are: 100\n"
     ]
    }
   ],
   "source": [
    "dic={\"a\":\"Ali\",\"b\":\"Bilal\",\"c\":50,\"e\":40,\"f\":10}\n",
    "sum=0\n",
    "for i in dic.values():\n",
    "    if type(i)==int:\n",
    "     sum+=i\n",
    "print(\"Sum of All numeric numbers are:\",sum)"
   ]
  },
  {
   "cell_type": "code",
   "execution_count": 13,
   "metadata": {},
   "outputs": [
    {
     "name": "stdout",
     "output_type": "stream",
     "text": [
      "duplicate values are: karachi\n",
      "duplicate values are: lahore\n"
     ]
    }
   ],
   "source": [
    "a=[\"karachi\",\"lahore\",\"islamabad\",\"karachi\",\"lahore\"]\n",
    "for i in range(len(a)):\n",
    " for j in range(i+1,len(a)):\n",
    "  if a[j]==a[i]:\n",
    "   print(\"duplicate values are:\",a[j])"
   ]
  },
  {
   "cell_type": "code",
   "execution_count": null,
   "metadata": {},
   "outputs": [
    {
     "name": "stdout",
     "output_type": "stream",
     "text": [
      "Enter nameAhsan\n",
      "Name is exists\n",
      "Enter nameSalman\n",
      "Not exists\n",
      "Enter nameAnus\n",
      "Name is exists\n"
     ]
    }
   ],
   "source": [
    "z=2\n",
    "while z not in range(2):\n",
    " dic={\"Name1\":\"Ahsan\",\"Name2\":\"Ali\",\"Name3\":\"Saleem\",\"Name4\":\"Anus\",\"Name5\":\"Aftab\"}\n",
    " check=input(\"Enter name\")\n",
    " flag=\"\"\n",
    " for i in dic.values():\n",
    "    if i==check:\n",
    "     flag=\"true\"\n",
    " if flag==\"true\":\n",
    "  print(\"Name is exists\")\n",
    " else:\n",
    "  print(\"Not exists\")  "
   ]
  },
  {
   "cell_type": "code",
   "execution_count": null,
   "metadata": {},
   "outputs": [],
   "source": []
  }
 ],
 "metadata": {
  "kernelspec": {
   "display_name": "Python 3",
   "language": "python",
   "name": "python3"
  },
  "language_info": {
   "codemirror_mode": {
    "name": "ipython",
    "version": 3
   },
   "file_extension": ".py",
   "mimetype": "text/x-python",
   "name": "python",
   "nbconvert_exporter": "python",
   "pygments_lexer": "ipython3",
   "version": "3.7.4"
  }
 },
 "nbformat": 4,
 "nbformat_minor": 2
}
