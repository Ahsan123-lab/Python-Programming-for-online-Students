{
 "cells": [
  {
   "cell_type": "code",
   "execution_count": 1,
   "metadata": {},
   "outputs": [
    {
     "name": "stdout",
     "output_type": "stream",
     "text": [
      "Twinkle, twinkle, little star,\n",
      "\tHow I wonder what you are!\n",
      "\t\tUp above the world so high,\n",
      "\t\tLike a diamond in the sky.\n",
      "Twinkle, twinkle, little star,\n",
      "\tHow I wonder what you are\n",
      "\n"
     ]
    }
   ],
   "source": [
    "a=\"Twinkle, twinkle, little star,\"\n",
    "b=\"How I wonder what you are!\"\n",
    "c=\"Up above the world so high,\"\n",
    "d=\"Like a diamond in the sky.\"\n",
    "e=\"Twinkle, twinkle, little star,\"\n",
    "f=\"How I wonder what you are\"\n",
    "print(a+\"\\n\\t\"+\n",
    "     b+\"\\n\\t\\t\"+\n",
    "     c+\"\\n\\t\\t\"+\n",
    "     d+\"\\n\"+\n",
    "     e+\"\\n\\t\"+\n",
    "     f+\"\\n\")"
   ]
  },
  {
   "cell_type": "code",
   "execution_count": 3,
   "metadata": {},
   "outputs": [
    {
     "name": "stdout",
     "output_type": "stream",
     "text": [
      "<function python_version at 0x0000000002A3D8B8>\n"
     ]
    }
   ],
   "source": [
    "from platform import python_version\n",
    "print(python_version)"
   ]
  },
  {
   "cell_type": "code",
   "execution_count": 5,
   "metadata": {},
   "outputs": [
    {
     "name": "stdout",
     "output_type": "stream",
     "text": [
      "2019-11-03 11:29:45.674458\n"
     ]
    }
   ],
   "source": [
    "from datetime import datetime\n",
    "today=datetime.now()\n",
    "print(today)"
   ]
  },
  {
   "cell_type": "code",
   "execution_count": null,
   "metadata": {},
   "outputs": [],
   "source": []
  },
  {
   "cell_type": "code",
   "execution_count": 18,
   "metadata": {},
   "outputs": [
    {
     "name": "stdout",
     "output_type": "stream",
     "text": [
      "Enter Radius4\n",
      "Area=50.29\n"
     ]
    }
   ],
   "source": [
    "radius=float(input(\"Enter Radius\"))\n",
    "pi=22/7\n",
    "area=pi*(radius**2)\n",
    "print(\"Area of circle=%.2f\"%area)"
   ]
  },
  {
   "cell_type": "markdown",
   "metadata": {},
   "source": [
    "4\n"
   ]
  },
  {
   "cell_type": "code",
   "execution_count": 29,
   "metadata": {},
   "outputs": [
    {
     "name": "stdout",
     "output_type": "stream",
     "text": [
      "Enter FirstnameAhasan \n",
      "Enter LastnameSaeed\n",
      "Given name  Ahasan  Saeed\n",
      "After Reversing  nasahA deeaS\n"
     ]
    }
   ],
   "source": [
    "def reverse(str):\n",
    "    s=\"\"\n",
    "    for i in str:\n",
    "     s=i+s\n",
    "    return s\n",
    "fname=input(\"Enter Firstname\")\n",
    "lname=input(\"Enter Lastname\")\n",
    "\n",
    "print(\"Given name  \"+fname+\" \"+lname)\n",
    "print(\"After Reversing\",reverse(fname),reverse(lname))"
   ]
  },
  {
   "cell_type": "code",
   "execution_count": 30,
   "metadata": {},
   "outputs": [
    {
     "name": "stdout",
     "output_type": "stream",
     "text": [
      "a=4\n",
      "b=5\n",
      "Answer= 9\n"
     ]
    }
   ],
   "source": [
    "def add(a,b):\n",
    "    c=a+b\n",
    "    return c\n",
    "a=int(input(\"a=\"))\n",
    "b=int(input(\"b=\"))\n",
    "print(\"Answer=\",add(a,b))"
   ]
  },
  {
   "cell_type": "code",
   "execution_count": null,
   "metadata": {},
   "outputs": [],
   "source": []
  }
 ],
 "metadata": {
  "kernelspec": {
   "display_name": "Python 3",
   "language": "python",
   "name": "python3"
  },
  "language_info": {
   "codemirror_mode": {
    "name": "ipython",
    "version": 3
   },
   "file_extension": ".py",
   "mimetype": "text/x-python",
   "name": "python",
   "nbconvert_exporter": "python",
   "pygments_lexer": "ipython3",
   "version": "3.7.4"
  }
 },
 "nbformat": 4,
 "nbformat_minor": 2
}
